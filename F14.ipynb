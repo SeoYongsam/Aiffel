{
 "cells": [
  {
   "cell_type": "markdown",
   "metadata": {},
   "source": [
    "Tkinter로 배우는 파이썬 GUI 프로그래밍   \n",
    "14.3 Tkinter 시작"
   ]
  },
  {
   "cell_type": "code",
   "execution_count": 1,
   "metadata": {},
   "outputs": [
    {
     "name": "stdout",
     "output_type": "stream",
     "text": [
      "코드 실행중..\n",
      "완료!\n"
     ]
    }
   ],
   "source": [
    "from tkinter import *\n",
    "\n",
    "print('코드 실행중..')\n",
    "window = Tk()\n",
    "window.title(\"My First GUI\")\n",
    "window.mainloop()\n",
    "print('완료!')"
   ]
  },
  {
   "cell_type": "markdown",
   "metadata": {},
   "source": [
    "14.4 Size와 Label"
   ]
  },
  {
   "cell_type": "code",
   "execution_count": 3,
   "metadata": {},
   "outputs": [
    {
     "name": "stdout",
     "output_type": "stream",
     "text": [
      "코드 실행중..\n",
      "완료!\n"
     ]
    }
   ],
   "source": [
    "from tkinter import *\n",
    "\n",
    "print('코드 실행중..')\n",
    "window = Tk()\n",
    "window.title(\"ex1_size\")\n",
    "\n",
    "window.geometry(\"480x320\")\n",
    "window.resizable(False, False)\n",
    "\n",
    "window.mainloop()\n",
    "print('완료!')"
   ]
  },
  {
   "cell_type": "code",
   "execution_count": 5,
   "metadata": {},
   "outputs": [
    {
     "name": "stdout",
     "output_type": "stream",
     "text": [
      "코드 실행 중..\n",
      "완료!\n"
     ]
    }
   ],
   "source": [
    "from tkinter import *\n",
    "import tkinter.ttk as ttk\n",
    "\n",
    "print('코드 실행 중..')\n",
    "window = Tk()\n",
    "window.title(\"ex2_label\")\n",
    "window.geometry(\"480x320\")\n",
    "window.resizable(False, False)\n",
    "\n",
    "label1 = ttk.Label(window, text='label')\n",
    "label1.grid(column=0, row=0)\n",
    "\n",
    "window.mainloop()\n",
    "print('완료!')"
   ]
  },
  {
   "cell_type": "markdown",
   "metadata": {},
   "source": [
    "14.5 Tkinter 라이브러리, OOP Hierarchy"
   ]
  },
  {
   "cell_type": "code",
   "execution_count": 6,
   "metadata": {},
   "outputs": [
    {
     "data": {
      "text/plain": [
       "['/home/aiffel0034/aiffel',\n",
       " '/home/aiffel0034/anaconda3/lib/python37.zip',\n",
       " '/home/aiffel0034/anaconda3/lib/python3.7',\n",
       " '/home/aiffel0034/anaconda3/lib/python3.7/lib-dynload',\n",
       " '',\n",
       " '/home/aiffel0034/anaconda3/lib/python3.7/site-packages',\n",
       " '/home/aiffel0034/anaconda3/lib/python3.7/site-packages/IPython/extensions',\n",
       " '/home/aiffel0034/.ipython']"
      ]
     },
     "execution_count": 6,
     "metadata": {},
     "output_type": "execute_result"
    }
   ],
   "source": [
    "import sys\n",
    "sys.path"
   ]
  },
  {
   "cell_type": "code",
   "execution_count": 8,
   "metadata": {},
   "outputs": [
    {
     "name": "stdout",
     "output_type": "stream",
     "text": [
      "코드 실행 중..\n",
      "완료!\n"
     ]
    }
   ],
   "source": [
    "from tkinter import *\n",
    "import tkinter.ttk as ttk\n",
    "\n",
    "print('코드 실행 중..')\n",
    "window = Tk()\n",
    "window.title('ex2_label')\n",
    "window.geometry('480x320')\n",
    "window.resizable(False,False)\n",
    "\n",
    "label1 = ttk.Label(window, text='label')\n",
    "label1.grid(row=0, column=0)\n",
    "\n",
    "text1 = Text(window, width=60, height=40)\n",
    "text1.grid(row=1, column=0, padx=20, pady=10)\n",
    "\n",
    "window.mainloop()\n",
    "print('완료!')"
   ]
  },
  {
   "cell_type": "markdown",
   "metadata": {},
   "source": [
    "14.6 위젯 만들기, 버튼"
   ]
  },
  {
   "cell_type": "code",
   "execution_count": 66,
   "metadata": {},
   "outputs": [
    {
     "name": "stdout",
     "output_type": "stream",
     "text": [
      "코드 실행 중..\n",
      "완료!\n"
     ]
    }
   ],
   "source": [
    "from tkinter import *\n",
    "import tkinter.ttk as ttk\n",
    "import tkinter.messagebox as tmb\n",
    "\n",
    "print('코드 실행 중..')\n",
    "window = Tk()\n",
    "window.title(\"ex3_Button\")\n",
    "window.geometry(\"480x320\")\n",
    "\n",
    "label1 = ttk.Label(window, text=\"Label\")\n",
    "label1.grid(column=0, row=0)\n",
    "\n",
    "def click():\n",
    "    label1.configure(text='버튼이 눌렸습니다.')\n",
    "    tmb.showinfo(\"버튼\",\"버튼클릭!\")\n",
    "    \n",
    "action = ttk.Button(window, text='버튼을 눌러주세요', command=click)\n",
    "action.grid(row=0, column=1)\n",
    "\n",
    "window.mainloop()\n",
    "print('완료!')"
   ]
  },
  {
   "cell_type": "code",
   "execution_count": 59,
   "metadata": {},
   "outputs": [
    {
     "name": "stdout",
     "output_type": "stream",
     "text": [
      "코드 실행 중..\n",
      "완료!\n"
     ]
    }
   ],
   "source": [
    "from tkinter import *\n",
    "import tkinter.ttk as ttk\n",
    "import tkinter.messagebox as tmb\n",
    "\n",
    "print('코드 실행 중..')\n",
    "window = Tk()\n",
    "window.title(\"ex3_Button\")\n",
    "window.geometry(\"480x320\")\n",
    "\n",
    "label1 = ttk.Label(window, text=\"Label\")\n",
    "label1.grid(column=0, row=0)\n",
    "\n",
    "combo = ttk.Combobox(window, width=10)\n",
    "combo['values']=(\"A\",\"B\",\"C\")\n",
    "combo.current(0)\n",
    "combo.grid(row=1, column=1)\n",
    "\n",
    "def click():\n",
    "    label1.configure(text='버튼이 눌렸습니다.')\n",
    "    tmb.showinfo(\"버튼\", combo.get())\n",
    "    \n",
    "action = ttk.Button(window, text=\"버튼을 눌러주세요.\", command=click)\n",
    "action.grid(row=0, column=1)\n",
    "\n",
    "window.mainloop()\n",
    "print('완료!')"
   ]
  },
  {
   "cell_type": "code",
   "execution_count": 60,
   "metadata": {},
   "outputs": [
    {
     "name": "stdout",
     "output_type": "stream",
     "text": [
      "코드 실행 중..\n",
      "완료!\n"
     ]
    }
   ],
   "source": [
    "from tkinter import *\n",
    "import tkinter.ttk as ttk\n",
    "\n",
    "print('코드 실행 중..')\n",
    "window = Tk()\n",
    "window.title(\"ex3_Button\")\n",
    "window.geometry(\"1024x512\")\n",
    "\n",
    "label1 = ttk.Label(window, text=\"Label\")\n",
    "label1.grid(column=0, row=0)\n",
    "\n",
    "combo = ttk.Combobox(window, width=10)\n",
    "combo['values']=(\"A\",\"B\",\"C\")\n",
    "combo.current(0)\n",
    "combo.grid(row=1, column=1)\n",
    "\n",
    "text1 = Text(window, width=60, height=40)\n",
    "text2 = Text(window, width=60, height=40)\n",
    "text1.grid(row=2, column=0, padx=20, pady=10)\n",
    "text2.grid(row=2, column=1, padx=20, pady=10)\n",
    "\n",
    "def click():\n",
    "    label1.configure(text='버튼이 눌렸습니다.')\n",
    "    text1_string = text1.get(\"1.0\", \"end\")\n",
    "    text2_string = f'{text1_string} and {combo.get()}'\n",
    "    text2.delete(1.0, \"end\")\n",
    "    text2.insert(\"end\", text2_string)\n",
    "    \n",
    "action = ttk.Button(window, text=\"버튼을 눌러주세요\", command=click)\n",
    "action.grid(row=0, column=1)\n",
    "\n",
    "window.mainloop()\n",
    "print('완료!')"
   ]
  },
  {
   "cell_type": "markdown",
   "metadata": {},
   "source": [
    "14.7 레이아웃"
   ]
  },
  {
   "cell_type": "code",
   "execution_count": 20,
   "metadata": {},
   "outputs": [
    {
     "name": "stdout",
     "output_type": "stream",
     "text": [
      "코드 실행 중..\n",
      "완료!\n"
     ]
    }
   ],
   "source": [
    "from tkinter import *\n",
    "import tkinter.ttk as ttk\n",
    "\n",
    "print('코드 실행 중..')\n",
    "window = Tk()\n",
    "window.title(\"Layout\")\n",
    "window.geometry(\"480x320\")\n",
    "\n",
    "Label(window, text=\"First\").grid(row=0)\n",
    "Label(window, text=\"Second\").grid(row=1)\n",
    "\n",
    "entry1 = Entry(window)\n",
    "entry2 = Entry(window)\n",
    "\n",
    "entry1.grid(row=0, column=1)\n",
    "entry2.grid(row=1, column=1)\n",
    "window.mainloop()\n",
    "print('완료!')"
   ]
  },
  {
   "cell_type": "code",
   "execution_count": 21,
   "metadata": {},
   "outputs": [
    {
     "name": "stdout",
     "output_type": "stream",
     "text": [
      "코드 실행 중..\n",
      "완료!\n"
     ]
    }
   ],
   "source": [
    "from tkinter import *\n",
    "import tkinter.ttk as ttk\n",
    "\n",
    "print('코드 실행 중..')\n",
    "window = Tk()\n",
    "window.title(\"Layout_pack\")\n",
    "window.geometry(\"480x320\")\n",
    "\n",
    "Label(window, text=\"First\").pack()\n",
    "Label(window, text=\"Second\").pack()\n",
    "\n",
    "entry1 = Entry(window)\n",
    "entry2 = Entry(window)\n",
    "entry1.pack()\n",
    "entry2.pack()\n",
    "\n",
    "window.mainloop()\n",
    "print('완료!')"
   ]
  },
  {
   "cell_type": "code",
   "execution_count": 67,
   "metadata": {},
   "outputs": [
    {
     "name": "stdout",
     "output_type": "stream",
     "text": [
      "코드 실행 중..\n",
      "완료!\n"
     ]
    }
   ],
   "source": [
    "from tkinter import *\n",
    "import tkinter.ttk as ttk\n",
    "\n",
    "print('코드 실행 중..')\n",
    "window = Tk()\n",
    "window.title(\"Layout_pack\")\n",
    "window.geometry(\"480x320\")\n",
    "\n",
    "B1 = Button(window, text=\"Left\").pack(side=\"left\")\n",
    "B2 = Button(window, text=\"Right\").pack(side=\"right\")\n",
    "B3 = Button(window, text=\"Top\").pack(side=\"top\")\n",
    "B4 = Button(window, text=\"Bottom\").pack(side=\"bottom\")\n",
    "\n",
    "window.mainloop()\n",
    "print('완료!')"
   ]
  },
  {
   "cell_type": "code",
   "execution_count": 23,
   "metadata": {},
   "outputs": [
    {
     "name": "stdout",
     "output_type": "stream",
     "text": [
      "코드 실행 중..\n",
      "완료!\n"
     ]
    }
   ],
   "source": [
    "from tkinter import *\n",
    "import tkinter.ttk as ttk\n",
    "\n",
    "print('코드 실행 중..')\n",
    "window = Tk()\n",
    "window.title(\"Layout_pack\")\n",
    "window.geometry(\"480x320\")\n",
    "\n",
    "B1 = Button(window, text=\"Left\").pack(side=\"left\", padx=20, pady=20)\n",
    "B2 = Button(window, text=\"Right\").pack(side=\"right\", padx=20, pady=20)\n",
    "B3 = Button(window, text=\"Top\").pack(side=\"top\", padx=20, pady=20)\n",
    "B4 = Button(window, text=\"Bottom\").pack(side=\"bottom\", padx=20, pady=20)\n",
    "\n",
    "window.mainloop()\n",
    "print('완료!')"
   ]
  },
  {
   "cell_type": "code",
   "execution_count": 37,
   "metadata": {},
   "outputs": [
    {
     "name": "stdout",
     "output_type": "stream",
     "text": [
      "코드 실행 중..\n",
      "완료!\n"
     ]
    }
   ],
   "source": [
    "from tkinter import *\n",
    "import tkinter.ttk as ttk\n",
    "\n",
    "print('코드 실행 중..')\n",
    "window = Tk()\n",
    "window.title('Layout_place')\n",
    "window.geometry(\"480x320\")\n",
    "\n",
    "Label(window, text=\"First\").place(x=10,y=50)\n",
    "Label(window, text=\"Second\").place(x=10,y=80)\n",
    "\n",
    "e1 = Entry(window)\n",
    "e2 = Entry(window)\n",
    "e1.place(x=80,y=50)\n",
    "e2.place(x=80,y=80)\n",
    "\n",
    "window.mainloop()\n",
    "print('완료!')"
   ]
  },
  {
   "cell_type": "markdown",
   "metadata": {},
   "source": [
    "14.8 나만의 구글번역기 만들기"
   ]
  },
  {
   "cell_type": "markdown",
   "metadata": {},
   "source": [
    "pip install googletrans"
   ]
  },
  {
   "cell_type": "code",
   "execution_count": 38,
   "metadata": {},
   "outputs": [
    {
     "data": {
      "text/plain": [
       "'Hello'"
      ]
     },
     "execution_count": 38,
     "metadata": {},
     "output_type": "execute_result"
    }
   ],
   "source": [
    "from googletrans import Translator\n",
    "\n",
    "def translate(input_str, lang='en'):\n",
    "    translator = Translator()\n",
    "    result = translator.translate(input_str, dest=lang)\n",
    "    return result.text\n",
    "\n",
    "translate('안녕하세요', lang='en')"
   ]
  },
  {
   "cell_type": "code",
   "execution_count": 81,
   "metadata": {},
   "outputs": [
    {
     "name": "stdout",
     "output_type": "stream",
     "text": [
      "코드 실행 중..\n",
      "완료!\n"
     ]
    }
   ],
   "source": [
    "from tkinter import *\n",
    "import tkinter.ttk as ttk\n",
    "from googletrans import Translator\n",
    "\n",
    "print('코드 실행 중..')\n",
    "window = Tk()\n",
    "window.title(\"나의 구글 번역기\")\n",
    "window.geometry(\"1024x512\")\n",
    "\n",
    "#라벨 생성\n",
    "Label(window, text=\"번역전\").grid(row=0, column=0, padx=10, pady=10)\n",
    "Label(window, text=\"번역후\").grid(row=0, column=2, padx=10, pady=10)\n",
    "\n",
    "#콤보박스 생성\n",
    "combo = ttk.Combobox(window, width=10)\n",
    "combo['values']=(\"en\",\"ko\",\"ja\")\n",
    "combo.current(0)\n",
    "combo.grid(row=0, column=1, padx=10, pady=10)\n",
    "\n",
    "#텍스트박스 생성\n",
    "text1 = Text(window, width=45, height=30)\n",
    "text2 = Text(window, width=45, height=30)\n",
    "text1.grid(row=1, column=0)\n",
    "text2.grid(row=1, column=2)\n",
    "\n",
    "#번역기 함수\n",
    "def translate(input_str, lang='en'):\n",
    "    translator = Translator()\n",
    "    result = translator.translate(input_str, dest=lang)\n",
    "    return result.text\n",
    "\n",
    "#버튼클릭 콜백 함수\n",
    "def click():\n",
    "     text1_string = text1.get(\"1.0\", \"end\")\n",
    "     text2_string = translate(text1_string, combo.get())\n",
    "     text2.delete(1.0, \"end\")\n",
    "     text2.insert(\"end\", text2_string)\n",
    "    \n",
    "#버튼 생성\n",
    "action = ttk.Button(window, text=\"번역\", command=click)\n",
    "action.grid(row=1, column=1)\n",
    "\n",
    "window.mainloop()\n",
    "print('완료!')"
   ]
  },
  {
   "cell_type": "code",
   "execution_count": null,
   "metadata": {},
   "outputs": [],
   "source": []
  }
 ],
 "metadata": {
  "kernelspec": {
   "display_name": "Python 3",
   "language": "python",
   "name": "python3"
  },
  "language_info": {
   "codemirror_mode": {
    "name": "ipython",
    "version": 3
   },
   "file_extension": ".py",
   "mimetype": "text/x-python",
   "name": "python",
   "nbconvert_exporter": "python",
   "pygments_lexer": "ipython3",
   "version": "3.7.6"
  }
 },
 "nbformat": 4,
 "nbformat_minor": 4
}
